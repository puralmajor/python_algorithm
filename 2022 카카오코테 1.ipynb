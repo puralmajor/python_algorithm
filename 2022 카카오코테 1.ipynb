{
 "cells": [
  {
   "cell_type": "code",
   "execution_count": 13,
   "metadata": {},
   "outputs": [
    {
     "name": "stdout",
     "output_type": "stream",
     "text": [
      "{'R': 0, 'T': 3, 'C': 1, 'F': 0, 'J': 0, 'M': 2, 'A': 1, 'N': 1}\n"
     ]
    },
    {
     "data": {
      "text/plain": [
       "'TCMA'"
      ]
     },
     "execution_count": 13,
     "metadata": {},
     "output_type": "execute_result"
    }
   ],
   "source": [
    "def solution(survey, choices):\n",
    "    answer = ''\n",
    "    mbti = {'R': 0, 'T': 0, 'C': 0, 'F': 0, 'J': 0, 'M': 0, 'A': 0, 'N': 0}\n",
    "    character = ['RT', 'CF', 'JM', 'AN']\n",
    "    for i in range(len(survey)):\n",
    "        score = choices[i] - 4\n",
    "        if score < 0:\n",
    "            mbti[survey[i][0]] -= score\n",
    "        else:\n",
    "            mbti[survey[i][1]] += score\n",
    "    \n",
    "    scores = [0 for _ in range(4)]\n",
    "    for n,i in enumerate(mbti):\n",
    "        if n % 2 == 1:\n",
    "            scores[n//2] -= mbti[i]\n",
    "        else:\n",
    "            scores[n//2] += mbti[i]\n",
    "    \n",
    "    for i in range(len(scores)):\n",
    "        if scores[i] < 0:\n",
    "            answer += character[i][1]\n",
    "        else:\n",
    "            answer += character[i][0]\n",
    "    \n",
    "    return answer"
   ]
  },
  {
   "cell_type": "code",
   "execution_count": null,
   "metadata": {},
   "outputs": [],
   "source": []
  }
 ],
 "metadata": {
  "kernelspec": {
   "display_name": "Python 3",
   "language": "python",
   "name": "python3"
  },
  "language_info": {
   "codemirror_mode": {
    "name": "ipython",
    "version": 3
   },
   "file_extension": ".py",
   "mimetype": "text/x-python",
   "name": "python",
   "nbconvert_exporter": "python",
   "pygments_lexer": "ipython3",
   "version": "3.7.7"
  }
 },
 "nbformat": 4,
 "nbformat_minor": 4
}
